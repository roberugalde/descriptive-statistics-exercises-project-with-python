{
 "cells": [
  {
   "cell_type": "markdown",
   "id": "ac622319",
   "metadata": {},
   "source": [
    "# Descriptive statistics problems"
   ]
  },
  {
   "cell_type": "markdown",
   "id": "5e0ab0d5",
   "metadata": {},
   "source": [
    "### Exercise 1\n",
    "\n",
    "We will use NumPy to obtain information to describe statistically.\n",
    "\n",
    "- Generate an array of 100 elements following a normal distribution.\n",
    "- Generate an array of 100 elements following a chi-square distribution with 3 degrees of freedom.\n",
    "- Calculate the main metrics and statistical measures that best describe the two vectors."
   ]
  },
  {
   "cell_type": "code",
   "execution_count": 1,
   "id": "34720ab6",
   "metadata": {},
   "outputs": [
    {
     "name": "stdout",
     "output_type": "stream",
     "text": [
      "Descriptive Statistics for Normal Distribution:\n",
      "Mean: 0.09\n",
      "Median: 0.05\n",
      "Variance: 1.00\n",
      "Standard Deviation: 1.00\n",
      "Min: -2.63\n",
      "Max: 2.21\n",
      "\n",
      "Descriptive Statistics for Chi-Square Distribution:\n",
      "Mean: 3.48\n",
      "Median: 2.78\n",
      "Variance: 8.39\n",
      "Standard Deviation: 2.90\n",
      "Min: 0.11\n",
      "Max: 17.01\n"
     ]
    }
   ],
   "source": [
    "import numpy as np\n",
    "\n",
    "# Generate an array of 100 elements following a normal distribution\n",
    "normal_array = np.random.normal(loc=0, scale=1, size=100)\n",
    "\n",
    "# Generate an array of 100 elements following a chi-square distribution with 3 degrees of freedom\n",
    "chi_square_array = np.random.chisquare(df=3, size=100)\n",
    "\n",
    "# Calculate descriptive statistics for the normal array\n",
    "normal_stats = {\n",
    "    'Mean': np.mean(normal_array),\n",
    "    'Median': np.median(normal_array),\n",
    "    'Variance': np.var(normal_array),\n",
    "    'Standard Deviation': np.std(normal_array),\n",
    "    'Min': np.min(normal_array),\n",
    "    'Max': np.max(normal_array)\n",
    "}\n",
    "\n",
    "# Calculate descriptive statistics for the chi-square array\n",
    "chi_square_stats = {\n",
    "    'Mean': np.mean(chi_square_array),\n",
    "    'Median': np.median(chi_square_array),\n",
    "    'Variance': np.var(chi_square_array),\n",
    "    'Standard Deviation': np.std(chi_square_array),\n",
    "    'Min': np.min(chi_square_array),\n",
    "    'Max': np.max(chi_square_array)\n",
    "}\n",
    "\n",
    "# Print results\n",
    "print(\"Descriptive Statistics for Normal Distribution:\")\n",
    "for key, value in normal_stats.items():\n",
    "    print(f\"{key}: {value:.2f}\")\n",
    "\n",
    "print(\"\\nDescriptive Statistics for Chi-Square Distribution:\")\n",
    "for key, value in chi_square_stats.items():\n",
    "    print(f\"{key}: {value:.2f}\")\n",
    "\n"
   ]
  },
  {
   "cell_type": "markdown",
   "id": "46c70c3d",
   "metadata": {},
   "source": [
    "### Exercise 2\n",
    "\n",
    "Write a Python program to calculate the standard deviation of the following data:\n",
    "\n",
    "```py\n",
    "data = [4, 2, 5, 8, 6]\n",
    "```"
   ]
  },
  {
   "cell_type": "code",
   "execution_count": 2,
   "id": "d590308e",
   "metadata": {},
   "outputs": [
    {
     "name": "stdout",
     "output_type": "stream",
     "text": [
      "Standard Deviation of the data: 2.00\n"
     ]
    }
   ],
   "source": [
    "import numpy as np\n",
    "\n",
    "# Data\n",
    "data = [4, 2, 5, 8, 6]\n",
    "\n",
    "# Calculate the standard deviation\n",
    "std_deviation = np.std(data)\n",
    "\n",
    "# Print the result\n",
    "print(f\"Standard Deviation of the data: {std_deviation:.2f}\")\n",
    "\n",
    "\n"
   ]
  }
 ],
 "metadata": {
  "kernelspec": {
   "display_name": "Python 3",
   "language": "python",
   "name": "python3"
  },
  "language_info": {
   "codemirror_mode": {
    "name": "ipython",
    "version": 3
   },
   "file_extension": ".py",
   "mimetype": "text/x-python",
   "name": "python",
   "nbconvert_exporter": "python",
   "pygments_lexer": "ipython3",
   "version": "3.11.4"
  }
 },
 "nbformat": 4,
 "nbformat_minor": 5
}
